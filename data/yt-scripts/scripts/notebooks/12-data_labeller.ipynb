{
 "metadata": {
  "language_info": {
   "codemirror_mode": {
    "name": "ipython",
    "version": 3
   },
   "file_extension": ".py",
   "mimetype": "text/x-python",
   "name": "python",
   "nbconvert_exporter": "python",
   "pygments_lexer": "ipython3",
   "version": "3.8.6-final"
  },
  "orig_nbformat": 2,
  "kernelspec": {
   "name": "python3",
   "display_name": "Python 3",
   "language": "python"
  }
 },
 "nbformat": 4,
 "nbformat_minor": 2,
 "cells": [
  {
   "cell_type": "code",
   "execution_count": 15,
   "metadata": {},
   "outputs": [],
   "source": [
    "import os\n",
    "import re"
   ]
  },
  {
   "cell_type": "code",
   "execution_count": 16,
   "metadata": {},
   "outputs": [],
   "source": [
    "tournament_name = \"seoul-2019-gp\"\n",
    "\n",
    "touch_options = [\"none\", \"left\", \"right\", \"split\"]\n",
    "\n",
    "dir_location = \"../videos-cut/{}-CUT\".format(tournament_name)\n",
    "vid_list = os.listdir(dir_location)\n",
    "\n",
    "output_folder = \"../videos-labeled/{}-LABELED/\".format(tournament_name)\n",
    "output_list = [output_folder]\n",
    "\n",
    "for option in touch_options:\n",
    "   output_list.append(output_folder + option)\n",
    "\n",
    "for output in output_list:\n",
    "    if not os.path.exists(output):\n",
    "        os.makedirs(output)\n",
    "\n",
    "tournament_len = len(tournament_name)\n",
    "\n"
   ]
  },
  {
   "cell_type": "code",
   "execution_count": 17,
   "metadata": {},
   "outputs": [],
   "source": [
    "# Returns no touch, left touch, right touch\n",
    "def replace_score(vid, left_score, right_score, tournament_len):\n",
    "    vid_IDs = vid[tournament_len+1:]\n",
    "    new_touch_num = str(int(re.search(r\"\\-(.*?)\\[\", vid_IDs).group(1)) + 1)\n",
    "\n",
    "    # REPLACE WITH NEW SCORES AND NEW TOUCH NUMBER\n",
    "    new_vid_ID = re.sub(r\"\\[(.*?)\\]\", \"[{}-{}]\".format(str(left_score), str(right_score)), vid_IDs)\n",
    "    new_vid_ID = re.sub(r\"\\-(.*?)\\[\", \"-\" + new_touch_num + \"[\", new_vid_ID)\n",
    "\n",
    "    return vid[:tournament_len + 1] + new_vid_ID"
   ]
  },
  {
   "cell_type": "code",
   "execution_count": 18,
   "metadata": {},
   "outputs": [],
   "source": [
    "\n",
    "for vid in vid_list:\n",
    "    if not vid.endswith(\".mp4\"):\n",
    "        continue\n",
    "    # bout_num - touch_num - [left_score-right_score]\n",
    "    # text_after = re.sub(regex_search_term, regex_replacement, text_before)\n",
    "    vid_ID = vid[tournament_len+1:]\n",
    "    score_list = re.search(r\"\\[(.*?)\\]\", vid_ID).group(1).split('-')\n",
    "    left_score = int(score_list[0])\n",
    "    right_score = int(score_list[1])\n",
    "\n",
    "    no_touch = replace_score(vid, left_score, right_score, tournament_len)\n",
    "    left_touch = replace_score(vid, left_score + 1, right_score, tournament_len)\n",
    "    right_touch = replace_score(vid, left_score, right_score + 1, tournament_len)\n",
    "\n",
    "    vid_location = dir_location + \"/\" + vid\n",
    "    no_touch_location = dir_location + \"/\" + no_touch\n",
    "    left_touch_location = dir_location + \"/\" + left_touch\n",
    "    right_touch_location = dir_location + \"/\" + right_touch\n",
    "\n",
    "    touch = \"\"\n",
    "    if no_touch in vid_list:\n",
    "        touch = \"none\"\n",
    "    elif left_touch in vid_list:\n",
    "        touch = \"left\"\n",
    "    elif right_touch in vid_list:\n",
    "        touch = \"right\"\n",
    "    else:\n",
    "        if left_score is right_score:\n",
    "            touch = \"split\"\n",
    "        elif left_score is 7 or left_score is 14:\n",
    "            touch = \"left\"\n",
    "        elif right_score is 7 or right_score is 14:\n",
    "            touch = \"right\"\n",
    "\n",
    "    new_vid_location = output_folder + touch + \"/\" + vid[:-4] + touch + vid[-4:]\n",
    "    print(vid_location)\n",
    "    print(new_vid_location)\n",
    "    print()\n",
    "    os.rename(vid_location, new_vid_location)\n",
    "    # print(no_touch_location)\n",
    "    # print(right_touch_location)\n",
    "    # print(left_touch_location)\n",
    "    # print()\n"
   ]
  },
  {
   "cell_type": "code",
   "execution_count": null,
   "metadata": {},
   "outputs": [],
   "source": []
  }
 ]
}