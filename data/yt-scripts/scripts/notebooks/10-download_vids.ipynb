{
 "metadata": {
  "language_info": {
   "codemirror_mode": {
    "name": "ipython",
    "version": 3
   },
   "file_extension": ".py",
   "mimetype": "text/x-python",
   "name": "python",
   "nbconvert_exporter": "python",
   "pygments_lexer": "ipython3",
   "version": "3.8.6-final"
  },
  "orig_nbformat": 2,
  "kernelspec": {
   "name": "python3",
   "display_name": "Python 3",
   "language": "python"
  }
 },
 "nbformat": 4,
 "nbformat_minor": 2,
 "cells": [
  {
   "cell_type": "code",
   "execution_count": 1,
   "metadata": {},
   "outputs": [],
   "source": [
    "from pytube import Playlist, YouTube\n",
    "import os\n",
    "import traceback\n",
    "import time"
   ]
  },
  {
   "cell_type": "code",
   "execution_count": 2,
   "metadata": {},
   "outputs": [],
   "source": [
    "# playlist url and more readable name for the tournament goes here\n",
    "pl_url = \"https://www.youtube.com/playlist?list=PLOS-FK662h4dleIfQ5r5ut9hsNJXOqJ1x\"\n",
    "tournament_name = \"testing-2020\""
   ]
  },
  {
   "cell_type": "code",
   "execution_count": 3,
   "metadata": {},
   "outputs": [],
   "source": [
    "pl = Playlist(pl_url)\n",
    "vids = list(pl.videos)\n",
    "output_path = \"../videos-full/\" + tournament_name\n",
    "if not os.path.exists(output_path):\n",
    "    os.makedirs(output_path)"
   ]
  },
  {
   "cell_type": "code",
   "execution_count": null,
   "metadata": {},
   "outputs": [],
   "source": [
    "# vids = vids[:2]\n",
    "counter = 0\n",
    "vids = vids[counter:]\n",
    "print(\"Downloading {0} videos....\".format(len(vids)))\n",
    "for vid in vids:\n",
    "        try:\n",
    "            start = time.time()\n",
    "            vid.streams.first().download(\n",
    "                output_path = output_path,\n",
    "                filename = tournament_name + \"-\" + str(counter),\n",
    "            )\n",
    "            print(\"Downloaded: {0}\\nIn {1} seconds\".format(vid.title, time.time() - start))\n",
    "        except:\n",
    "            traceback.print_exc()\n",
    "            print(\"Failed-\",vid)\n",
    "        counter += 1\n",
    "        print(\"Counter: \", counter, \"\\n\")"
   ]
  }
 ]
}